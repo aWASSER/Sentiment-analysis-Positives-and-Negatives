{
 "cells": [
  {
   "cell_type": "markdown",
   "metadata": {},
   "source": [
    "情感分析"
   ]
  },
  {
   "cell_type": "markdown",
   "metadata": {},
   "source": [
    "情感分析是文本处理领域经典的问题。整个系统一般会包括几个模块：\n",
    "- 数据的抓取： 通过爬虫的技术去网络抓取相关文本数据\n",
    "- 数据的清洗/预处理：在本文中一般需要去掉无用的信息，比如各种标签（HTML标签），标点符号，停用词等等\n",
    "- 把文本信息转换成向量： 这也成为特征工程，文本本身是不能作为模型的输入，只有数字（比如向量）才能成为模型的输入。所以进入模型之前，任何的信号都需要转换成模型可识别的数字信号（数字，向量，矩阵，张量...)\n",
    "- 选择合适的模型以及合适的评估方法。 对于情感分析来说，这是二分类问题（或者三分类：正面，负面，中性），所以需要采用分类算法比如逻辑回归，朴素贝叶斯，神经网络，SVM等等。另外，我们需要选择合适的评估方法，比如对于一个应用，我们是关注准确率呢，还是关注召回率呢？ "
   ]
  },
  {
   "cell_type": "markdown",
   "metadata": {},
   "source": [
    "在本次项目中，我们已经给定了训练数据和测试数据，它们分别是 ``train.positive.txt``, ``train.negative.txt``， ``test_combined.txt``. 请注意训练数据和测试数据的格式不一样，详情请见文件内容。 整个项目你需要完成以下步骤：\n",
    "\n",
    "数据的读取以及清洗： 从给定的.txt中读取内容，并做一些数据清洗，这里需要做几个工作： \n",
    "- （1） 文本的读取，需要把字符串内容读进来。 \n",
    "- （2）去掉无用的字符比如标点符号，多余的空格，换行符等 \n",
    "- （3） 把文本转换成``TF-IDF``向量： 这部分直接可以利用sklearn提供的``TfidfVectorizer``类来做。\n",
    "- （4） 利用朴素贝叶斯等模型来做分类，并通过交叉验证选择最合适的超参数\n",
    "\n",
    "项目中需要用到的数据：\n",
    "- ``train.positive.txt``, ``train.negative.txt``， ``test_combined.txt``： 训练和测试数据\n",
    "- ``stopwords.txt``： 停用词库\n",
    "\n",
    "\n",
    "你需要完成的部分为标记为`TODO`的部分。"
   ]
  },
  {
   "cell_type": "code",
   "execution_count": 1,
   "metadata": {},
   "outputs": [],
   "source": [
    "# 模块包加载\n",
    "import pandas as pd\n",
    "import numpy as np\n",
    "import csv\n",
    "import jieba\n",
    "import matplotlib.pyplot as plt\n",
    "from sklearn.feature_extraction.text import TfidfVectorizer\n",
    "from sklearn.metrics import classification_report, precision_score, recall_score\n",
    "from sklearn.naive_bayes import MultinomialNB\n",
    "from sklearn.linear_model import LogisticRegression\n",
    "from sklearn.model_selection import GridSearchCV\n",
    "import seaborn as sns\n",
    "import re\n"
   ]
  },
  {
   "cell_type": "code",
   "execution_count": 2,
   "metadata": {},
   "outputs": [],
   "source": [
    "# 内容提取\n",
    "def draw(data):\n",
    "    \n",
    "    contents_list = []\n",
    "    classes_list = \"\"\n",
    "    for i in data[0]:\n",
    "        if  \"id\" in i:\n",
    "            classes_list += i\n",
    "        elif \"/review\" in i:\n",
    "            classes_list += i\n",
    "            contents_list.append(re.search('<review.*>(.*)</review>', classes_list).group(1).replace('\\r', \"\"))\n",
    "            classes_list = \"\"\n",
    "        else:\n",
    "            classes_list += i\n",
    "    return contents_list\n",
    "\n",
    "def test_draw(data):\n",
    "    contents_list = []\n",
    "    label = []\n",
    "    classes_list = \"\"\n",
    "    for i in data[0]:\n",
    "        if  \"id\" in i:\n",
    "            classes_list += i\n",
    "        elif \"/review\" in i:\n",
    "            classes_list += i\n",
    "            contents_list.append(re.search('<review.*>(.*)</review>', classes_list).group(1).replace('\\r', \"\"))\n",
    "            label.append(int(re.search('label=\"([0, 1])\"', classes_list).group(1)))\n",
    "            classes_list = \"\"\n",
    "        else:\n",
    "            classes_list += i\n",
    "    return contents_list, label"
   ]
  },
  {
   "cell_type": "code",
   "execution_count": 3,
   "metadata": {},
   "outputs": [],
   "source": [
    "# 读取文本内容\n",
    "def process_file():\n",
    "    \"\"\"\n",
    "    读取训练数据和测试数据，并对它们做一些预处理\n",
    "    \"\"\"    \n",
    "    train_pos_file = \"./data/train.positive.txt\"\n",
    "    train_neg_file = \"./data/train.negative.txt\"\n",
    "    test_comb_file = \"./data/test.combined.txt\"\n",
    "    \n",
    "    # TODO: 读取文件部分，把具体的内容写入到变量里面，判断下训练集中的positive和negtive样本是否均衡？\n",
    "    # 数据读取\n",
    "    pos_data = pd.read_csv(train_pos_file, header = None, sep = '\\t', lineterminator = '\\n')\n",
    "    neg_data = pd.read_csv(train_neg_file, header = None, sep = '\\t', lineterminator = '\\n')\n",
    "    comb_data = pd.read_csv(test_comb_file, header = None, sep = '\\t', lineterminator = '\\n')\n",
    "    # 增加标签\n",
    "    pos_data = pd.DataFrame(draw(pos_data))\n",
    "    neg_data = pd.DataFrame(draw(neg_data))\n",
    "    comb_datas, test_labels = test_draw(comb_data)\n",
    "    comb_dtf_test = pd.DataFrame({\"评论\": comb_datas, \"label\": test_labels})\n",
    "\n",
    "    pos_data['label'] = 1\n",
    "    neg_data['label'] = 0\n",
    "    # 训练集, 测试集定义\n",
    "    train_comments = pos_data.append(neg_data)\n",
    "    train_comments.rename({0: \"评论\"}, axis = 1, inplace = True)\n",
    "    \n",
    "    train_comment = train_comments[\"评论\"]\n",
    "    train_labels = train_comments[\"label\"]\n",
    "\n",
    "    test_comments = comb_dtf_test[\"评论\"]\n",
    "    test_label = comb_dtf_test['label']\n",
    "\n",
    "    train_X, train_y, test_X, test_y = train_comment, train_labels, test_comments, test_label\n",
    "    return train_X, train_y, test_X, test_y, train_comments, comb_dtf_test\n",
    "\n",
    "# 数据提取\n",
    "train_X, train_y, test_X, test_y, train_comments, comb_dtf_test = process_file()"
   ]
  },
  {
   "cell_type": "code",
   "execution_count": 4,
   "metadata": {},
   "outputs": [
    {
     "name": "stdout",
     "output_type": "stream",
     "text": [
      "<class 'pandas.core.frame.DataFrame'>\n",
      "Int64Index: 8063 entries, 0 to 3064\n",
      "Data columns (total 2 columns):\n",
      " #   Column  Non-Null Count  Dtype \n",
      "---  ------  --------------  ----- \n",
      " 0   评论      8063 non-null   object\n",
      " 1   label   8063 non-null   int64 \n",
      "dtypes: int64(1), object(1)\n",
      "memory usage: 189.0+ KB\n",
      "<class 'pandas.core.frame.DataFrame'>\n",
      "RangeIndex: 2500 entries, 0 to 2499\n",
      "Data columns (total 2 columns):\n",
      " #   Column  Non-Null Count  Dtype \n",
      "---  ------  --------------  ----- \n",
      " 0   评论      2500 non-null   object\n",
      " 1   label   2500 non-null   int64 \n",
      "dtypes: int64(1), object(1)\n",
      "memory usage: 39.2+ KB\n",
      "None None\n"
     ]
    }
   ],
   "source": [
    "print(train_comments.info(), comb_dtf_test.info())"
   ]
  },
  {
   "cell_type": "code",
   "execution_count": 5,
   "metadata": {},
   "outputs": [
    {
     "name": "stdout",
     "output_type": "stream",
     "text": [
      "8063 2500\n"
     ]
    }
   ],
   "source": [
    "# 训练数据和测试数据大小\n",
    "print (len(train_X), len(test_X))\n"
   ]
  },
  {
   "cell_type": "markdown",
   "metadata": {},
   "source": [
    "TODO: 情感跟评论长度是否有相关性？"
   ]
  },
  {
   "cell_type": "code",
   "execution_count": 6,
   "metadata": {},
   "outputs": [
    {
     "data": {
      "text/plain": [
       "<AxesSubplot:ylabel='Count'>"
      ]
     },
     "execution_count": 6,
     "metadata": {},
     "output_type": "execute_result"
    },
    {
     "data": {
      "image/png": "[encoded data removed]",
      "text/plain": [
       "<Figure size 432x288 with 1 Axes>"
      ]
     },
     "metadata": {
      "needs_background": "light"
     },
     "output_type": "display_data"
    }
   ],
   "source": [
    "new_1 = train_comments.loc[train_comments['label'] == 1]\n",
    "length1 = [len(i) for i in new_1['评论']]\n",
    "sns.histplot(length1)"
   ]
  },
  {
   "cell_type": "code",
   "execution_count": 7,
   "metadata": {},
   "outputs": [
    {
     "data": {
      "text/plain": [
       "<AxesSubplot:ylabel='Count'>"
      ]
     },
     "execution_count": 7,
     "metadata": {},
     "output_type": "execute_result"
    },
    {
     "data": {
      "image/png": "[encoded data removed]",
      "text/plain": [
       "<Figure size 432x288 with 1 Axes>"
      ]
     },
     "metadata": {
      "needs_background": "light"
     },
     "output_type": "display_data"
    }
   ],
   "source": [
    "new_2 = train_comments.loc[train_comments['label'] == 0]\n",
    "length2 = [len(i) for i in new_2['评论']]\n",
    "sns.histplot(length2)"
   ]
  },
  {
   "cell_type": "markdown",
   "metadata": {},
   "source": [
    "从图中可以看出, 在0 为差评. 1 为好评的情况下, 不论评论长度如何, 在每个感情下都存在相应的评论长度. 所以没有相关性"
   ]
  },
  {
   "cell_type": "code",
   "execution_count": 8,
   "metadata": {},
   "outputs": [
    {
     "data": {
      "text/plain": [
       "([<matplotlib.patches.Wedge at 0x24729872fa0>,\n",
       "  <matplotlib.patches.Wedge at 0x2472987f7c0>],\n",
       " [Text(0.40451460395460437, 1.0229212751661048, '0'),\n",
       "  Text(-0.4045146997274046, -1.0229212372927097, '1')],\n",
       " [Text(0.22064432942978418, 0.5579570591815116, '38%'),\n",
       "  Text(-0.2206443816694934, -0.557957038523296, '62%')])"
      ]
     },
     "execution_count": 8,
     "metadata": {},
     "output_type": "execute_result"
    },
    {
     "data": {
      "image/png": "[encoded data removed]",
      "text/plain": [
       "<Figure size 432x288 with 1 Axes>"
      ]
     },
     "metadata": {},
     "output_type": "display_data"
    }
   ],
   "source": [
    "data_pie = train_comments.groupby(\"label\").count()\n",
    "\n",
    "plt.pie(data_pie[\"评论\"], labels = data_pie.index, autopct = '%.f%%')"
   ]
  },
  {
   "cell_type": "markdown",
   "metadata": {},
   "source": [
    "### 3. 文本预处理\n",
    "> 在此部分需要做文本预处理方面的工作。 分为几大块：\n",
    "- ``去掉特殊符号``  比如#$.... 这部分的代码已经给出，不需要自己写\n",
    "- ``把数字转换成特殊单词`` 把数字转换成 \" NUM \"， 这部分需要写。 注意：NUM前面和后面加一个空格，这样可以保证之后分词时被分掉。\n",
    "- ``分词并过滤掉停用词`` 停用词库已经提供，需要读取停用词库，并按照此停用词库做过滤。 停用词库使用给定的文件：``stopwords.txt`` "
   ]
  },
  {
   "cell_type": "markdown",
   "metadata": {},
   "source": [
    "从总体上来看, 好评占比 62%, 差评占比 38%, "
   ]
  },
  {
   "cell_type": "code",
   "execution_count": 9,
   "metadata": {},
   "outputs": [
    {
     "data": {
      "text/html": [
       "<div>\n",
       "<style scoped>\n",
       "    .dataframe tbody tr th:only-of-type {\n",
       "        vertical-align: middle;\n",
       "    }\n",
       "\n",
       "    .dataframe tbody tr th {\n",
       "        vertical-align: top;\n",
       "    }\n",
       "\n",
       "    .dataframe thead th {\n",
       "        text-align: right;\n",
       "    }\n",
       "</style>\n",
       "<table border=\"1\" class=\"dataframe\">\n",
       "  <thead>\n",
       "    <tr style=\"text-align: right;\">\n",
       "      <th></th>\n",
       "      <th>0</th>\n",
       "    </tr>\n",
       "  </thead>\n",
       "  <tbody>\n",
       "    <tr>\n",
       "      <th>0</th>\n",
       "      <td>———</td>\n",
       "    </tr>\n",
       "    <tr>\n",
       "      <th>1</th>\n",
       "      <td>》），</td>\n",
       "    </tr>\n",
       "    <tr>\n",
       "      <th>2</th>\n",
       "      <td>）÷（１－</td>\n",
       "    </tr>\n",
       "    <tr>\n",
       "      <th>3</th>\n",
       "      <td>”，</td>\n",
       "    </tr>\n",
       "    <tr>\n",
       "      <th>4</th>\n",
       "      <td>）、</td>\n",
       "    </tr>\n",
       "    <tr>\n",
       "      <th>...</th>\n",
       "      <td>...</td>\n",
       "    </tr>\n",
       "    <tr>\n",
       "      <th>762</th>\n",
       "      <td>啐</td>\n",
       "    </tr>\n",
       "    <tr>\n",
       "      <th>763</th>\n",
       "      <td>喔唷</td>\n",
       "    </tr>\n",
       "    <tr>\n",
       "      <th>764</th>\n",
       "      <td>嗬</td>\n",
       "    </tr>\n",
       "    <tr>\n",
       "      <th>765</th>\n",
       "      <td>嗯</td>\n",
       "    </tr>\n",
       "    <tr>\n",
       "      <th>766</th>\n",
       "      <td>嗳</td>\n",
       "    </tr>\n",
       "  </tbody>\n",
       "</table>\n",
       "<p>767 rows × 1 columns</p>\n",
       "</div>"
      ],
      "text/plain": [
       "         0\n",
       "0      ———\n",
       "1      》），\n",
       "2    ）÷（１－\n",
       "3       ”，\n",
       "4       ）、\n",
       "..     ...\n",
       "762      啐\n",
       "763     喔唷\n",
       "764      嗬\n",
       "765      嗯\n",
       "766      嗳\n",
       "\n",
       "[767 rows x 1 columns]"
      ]
     },
     "execution_count": 9,
     "metadata": {},
     "output_type": "execute_result"
    }
   ],
   "source": [
    "stopwords_data = \"./data/stopwords.txt\"\n",
    "stopwords =df = pd.read_csv(stopwords_data, encoding='utf-8', header=None, sep='\\t', quoting = csv.QUOTE_NONE)\n",
    "stopwords"
   ]
  },
  {
   "cell_type": "code",
   "execution_count": 10,
   "metadata": {},
   "outputs": [],
   "source": [
    "def clean_symbols(text):\n",
    "    \"\"\"\n",
    "    对特殊符号做一些处理，此部分已写好。如果不满意也可以自行改写。\n",
    "    \"\"\"\n",
    "    text = re.sub('[!！]+', \"\", text)\n",
    "    text = re.sub('[?？]+', \"\", text)\n",
    "    text = re.sub('[~~ ]+', \"\", text)\n",
    "    text = re.sub('[～～ ]+', \"\" , text)\n",
    "    text = re.sub(\"\\s+\", \" \", text)\n",
    "    text = re.sub(\"[a-zA-Z#$%&\\'()*+,-./:;：<=>@，。★、…【】《》“”‘’[\\\\]^_`{|}~]+\", \"\", text)    # 1. 去掉特殊符号\n",
    "    text = re.sub(\"\\d+\", \" \", text)   #   2. 把数字转换成特殊字符或者单词\n",
    "    text = jieba.lcut(text)   # 3. 分词并做停用词过滤\n",
    "    res = []\n",
    "    for i in text:\n",
    "        if i not in stopwords[0]:\n",
    "            res.append(i)\n",
    "    result = \" \".join(res)\n",
    "    return result"
   ]
  },
  {
   "cell_type": "code",
   "execution_count": 11,
   "metadata": {},
   "outputs": [
    {
     "name": "stderr",
     "output_type": "stream",
     "text": [
      "Building prefix dict from the default dictionary ...\n",
      "Dumping model to file cache C:\\Users\\ADMINI~1\\AppData\\Local\\Temp\\jieba.cache\n",
      "Loading model cost 2.554 seconds.\n",
      "Prefix dict has been built successfully.\n"
     ]
    },
    {
     "name": "stdout",
     "output_type": "stream",
     "text": [
      "发短信 特别 方便 背后 的 屏幕 很大 用 起来 很 舒服 我 终于 找到 同道中人 啦 从 初中 开始 我 就 已经 喜欢 上 了 但 同学 们 都 用 鄙夷 的 眼光 看 我 他们 人为 的 样子 古怪 甚至 说 ＂ 丑 ＂ ． 我 当场 气晕 ． 但 现在 有 同道中人 了 我 好开心\n",
      "手感 超好 而且 黑色 相比 白色 在 转得 时候 不 容易 眼花 找 童年 的 记忆 啦 看 完 已 是 深夜 两点 我 却 坐在 电脑前 情难 自禁 这是 最好 的 结局 惟有 如此 就让 那 前世 今生 的 纠结 就 停留 在 此刻 再 相逢 时愿 他 的 人生 不再 让 人 唏嘘 他们 的 身心 也 会 只 居 一处 可是 还是 痛心 为 这样 的 人 这样 的 爱\n"
     ]
    }
   ],
   "source": [
    "# 打印一下看看\n",
    "clean_train_comments = []\n",
    "lis = list(train_X)\n",
    "for item in lis:\n",
    "    string = clean_symbols(item)\n",
    "    clean_train_comments.append(string)\n",
    "\n",
    "clean_test_comments = []\n",
    "lis = list(test_X)\n",
    "for item in lis:\n",
    "    strings = clean_symbols(item)\n",
    "    clean_test_comments.append(strings)\n",
    "\n",
    "print(clean_train_comments[0], clean_test_comments[0])\n",
    "print(clean_train_comments[1], clean_test_comments[1])"
   ]
  },
  {
   "cell_type": "markdown",
   "metadata": {},
   "source": [
    "### 4. 把文本转换成向量\n",
    "> 预处理好文本之后，我们就需要把它转换成向量形式，这里我们使用tf-idf的方法。 sklearn自带此功能，直接调用即可。输入就是若干个文本，输出就是每个文本的tf-idf向量。详细的使用说明可以在这里找到： 参考：https://scikit-learn.org/stable/modules/generated/sklearn.feature_extraction.text.TfidfVectorizer.html  这里需要特别注意的一点是：对于训练数据调用fit_transform, 也就是训练的过程。 但对于测试数据，不能再做训练，而是直接使用已经训练好的object做transform操作。"
   ]
  },
  {
   "cell_type": "code",
   "execution_count": 12,
   "metadata": {},
   "outputs": [
    {
     "name": "stdout",
     "output_type": "stream",
     "text": [
      "(8063, 23715) (2500, 23715) (8063,) (2500,)\n"
     ]
    }
   ],
   "source": [
    "# TODO: 利用tf-idf从文本中提取特征,写到数组里面. \n",
    "#       参考：https://scikit-learn.org/stable/modules/generated/sklearn.feature_extraction.text.TfidfVectorizer.html\n",
    "\n",
    "# 列表转换: \n",
    "X_train = clean_train_comments          \n",
    "y_train = list(train_y)\n",
    "X_test = clean_test_comments\n",
    "y_test = list(test_y)\n",
    "\n",
    "tfidf = TfidfVectorizer()    \n",
    "\n",
    "tf_train_data = tfidf.fit_transform(clean_train_comments)\n",
    "tf_train_data = tf_train_data.toarray()      \n",
    "\n",
    "tf_test_data = tfidf.transform(clean_test_comments)\n",
    "tf_test_data = tf_test_data.toarray()             #   VSM 矩阵\n",
    "\n",
    "print (np.shape(tf_train_data), np.shape(tf_test_data), np.shape(y_train), np.shape(y_test))    # 矩阵有问题"
   ]
  },
  {
   "cell_type": "markdown",
   "metadata": {},
   "source": [
    "### 5. 通过交叉验证来训练模型(朴素贝叶斯模型不需要)\n",
    "> 接下来需要建模了！ 这里我们分别使用逻辑回归，朴素贝叶斯来训练。针对于每一个方法我们使用交叉验证（gridsearchCV)， 并选出最好的参数组合，然后最后在测试数据上做验证。"
   ]
  },
  {
   "cell_type": "code",
   "execution_count": 13,
   "metadata": {},
   "outputs": [
    {
     "ename": "ValueError",
     "evalue": "Parameter array for 'talk' should be one-dimensional, got: array([[0., 0., 0., ..., 0., 0., 0.],\n       [0., 0., 0., ..., 0., 0., 0.],\n       [0., 0., 0., ..., 0., 0., 0.],\n       ...,\n       [0., 0., 0., ..., 0., 0., 0.],\n       [0., 0., 0., ..., 0., 0., 0.],\n       [0., 0., 0., ..., 0., 0., 0.]]) with shape (8063, 23715)",
     "output_type": "error",
     "traceback": [
      "\u001b[1;31m---------------------------------------------------------------------------\u001b[0m",
      "\u001b[1;31mValueError\u001b[0m                                Traceback (most recent call last)",
      "\u001b[1;32mC:\\Users\\ADMINI~1\\AppData\\Local\\Temp/ipykernel_4460/2627841029.py\u001b[0m in \u001b[0;36m<module>\u001b[1;34m\u001b[0m\n\u001b[0;32m      5\u001b[0m \u001b[0mlr\u001b[0m \u001b[1;33m=\u001b[0m \u001b[0mLogisticRegression\u001b[0m\u001b[1;33m(\u001b[0m\u001b[1;33m)\u001b[0m\u001b[1;33m\u001b[0m\u001b[1;33m\u001b[0m\u001b[0m\n\u001b[0;32m      6\u001b[0m \u001b[0mlogistic_line\u001b[0m \u001b[1;33m=\u001b[0m \u001b[0mGridSearchCV\u001b[0m\u001b[1;33m(\u001b[0m\u001b[0mlr\u001b[0m\u001b[1;33m,\u001b[0m \u001b[0mparameters\u001b[0m\u001b[1;33m)\u001b[0m\u001b[1;33m\u001b[0m\u001b[1;33m\u001b[0m\u001b[0m\n\u001b[1;32m----> 7\u001b[1;33m \u001b[0mlogistic_line\u001b[0m\u001b[1;33m.\u001b[0m\u001b[0mfit\u001b[0m\u001b[1;33m(\u001b[0m\u001b[0mtf_train_data\u001b[0m\u001b[1;33m,\u001b[0m \u001b[0my_train\u001b[0m\u001b[1;33m)\u001b[0m\u001b[1;33m\u001b[0m\u001b[1;33m\u001b[0m\u001b[0m\n\u001b[0m\u001b[0;32m      8\u001b[0m \u001b[0mpre\u001b[0m \u001b[1;33m=\u001b[0m \u001b[0mlogistic_line\u001b[0m\u001b[1;33m.\u001b[0m\u001b[0mpredict\u001b[0m\u001b[1;33m(\u001b[0m\u001b[0mtf_test_data\u001b[0m\u001b[1;33m)\u001b[0m\u001b[1;33m\u001b[0m\u001b[1;33m\u001b[0m\u001b[0m\n\u001b[0;32m      9\u001b[0m \u001b[1;33m\u001b[0m\u001b[0m\n",
      "\u001b[1;32mf:\\Python\\lib\\site-packages\\sklearn\\model_selection\\_search.py\u001b[0m in \u001b[0;36mfit\u001b[1;34m(self, X, y, groups, **fit_params)\u001b[0m\n\u001b[0;32m    873\u001b[0m                 \u001b[1;32mreturn\u001b[0m \u001b[0mresults\u001b[0m\u001b[1;33m\u001b[0m\u001b[1;33m\u001b[0m\u001b[0m\n\u001b[0;32m    874\u001b[0m \u001b[1;33m\u001b[0m\u001b[0m\n\u001b[1;32m--> 875\u001b[1;33m             \u001b[0mself\u001b[0m\u001b[1;33m.\u001b[0m\u001b[0m_run_search\u001b[0m\u001b[1;33m(\u001b[0m\u001b[0mevaluate_candidates\u001b[0m\u001b[1;33m)\u001b[0m\u001b[1;33m\u001b[0m\u001b[1;33m\u001b[0m\u001b[0m\n\u001b[0m\u001b[0;32m    876\u001b[0m \u001b[1;33m\u001b[0m\u001b[0m\n\u001b[0;32m    877\u001b[0m             \u001b[1;31m# multimetric is determined here because in the case of a callable\u001b[0m\u001b[1;33m\u001b[0m\u001b[1;33m\u001b[0m\u001b[1;33m\u001b[0m\u001b[0m\n",
      "\u001b[1;32mf:\\Python\\lib\\site-packages\\sklearn\\model_selection\\_search.py\u001b[0m in \u001b[0;36m_run_search\u001b[1;34m(self, evaluate_candidates)\u001b[0m\n\u001b[0;32m   1373\u001b[0m     \u001b[1;32mdef\u001b[0m \u001b[0m_run_search\u001b[0m\u001b[1;33m(\u001b[0m\u001b[0mself\u001b[0m\u001b[1;33m,\u001b[0m \u001b[0mevaluate_candidates\u001b[0m\u001b[1;33m)\u001b[0m\u001b[1;33m:\u001b[0m\u001b[1;33m\u001b[0m\u001b[1;33m\u001b[0m\u001b[0m\n\u001b[0;32m   1374\u001b[0m         \u001b[1;34m\"\"\"Search all candidates in param_grid\"\"\"\u001b[0m\u001b[1;33m\u001b[0m\u001b[1;33m\u001b[0m\u001b[0m\n\u001b[1;32m-> 1375\u001b[1;33m         \u001b[0mevaluate_candidates\u001b[0m\u001b[1;33m(\u001b[0m\u001b[0mParameterGrid\u001b[0m\u001b[1;33m(\u001b[0m\u001b[0mself\u001b[0m\u001b[1;33m.\u001b[0m\u001b[0mparam_grid\u001b[0m\u001b[1;33m)\u001b[0m\u001b[1;33m)\u001b[0m\u001b[1;33m\u001b[0m\u001b[1;33m\u001b[0m\u001b[0m\n\u001b[0m\u001b[0;32m   1376\u001b[0m \u001b[1;33m\u001b[0m\u001b[0m\n\u001b[0;32m   1377\u001b[0m \u001b[1;33m\u001b[0m\u001b[0m\n",
      "\u001b[1;32mf:\\Python\\lib\\site-packages\\sklearn\\model_selection\\_search.py\u001b[0m in \u001b[0;36m__init__\u001b[1;34m(self, param_grid)\u001b[0m\n\u001b[0;32m    109\u001b[0m             \u001b[1;32mfor\u001b[0m \u001b[0mkey\u001b[0m\u001b[1;33m,\u001b[0m \u001b[0mvalue\u001b[0m \u001b[1;32min\u001b[0m \u001b[0mgrid\u001b[0m\u001b[1;33m.\u001b[0m\u001b[0mitems\u001b[0m\u001b[1;33m(\u001b[0m\u001b[1;33m)\u001b[0m\u001b[1;33m:\u001b[0m\u001b[1;33m\u001b[0m\u001b[1;33m\u001b[0m\u001b[0m\n\u001b[0;32m    110\u001b[0m                 \u001b[1;32mif\u001b[0m \u001b[0misinstance\u001b[0m\u001b[1;33m(\u001b[0m\u001b[0mvalue\u001b[0m\u001b[1;33m,\u001b[0m \u001b[0mnp\u001b[0m\u001b[1;33m.\u001b[0m\u001b[0mndarray\u001b[0m\u001b[1;33m)\u001b[0m \u001b[1;32mand\u001b[0m \u001b[0mvalue\u001b[0m\u001b[1;33m.\u001b[0m\u001b[0mndim\u001b[0m \u001b[1;33m>\u001b[0m \u001b[1;36m1\u001b[0m\u001b[1;33m:\u001b[0m\u001b[1;33m\u001b[0m\u001b[1;33m\u001b[0m\u001b[0m\n\u001b[1;32m--> 111\u001b[1;33m                     raise ValueError(\n\u001b[0m\u001b[0;32m    112\u001b[0m                         \u001b[1;34mf\"Parameter array for {key!r} should be one-dimensional, got:\"\u001b[0m\u001b[1;33m\u001b[0m\u001b[1;33m\u001b[0m\u001b[0m\n\u001b[0;32m    113\u001b[0m                         \u001b[1;34mf\" {value!r} with shape {value.shape}\"\u001b[0m\u001b[1;33m\u001b[0m\u001b[1;33m\u001b[0m\u001b[0m\n",
      "\u001b[1;31mValueError\u001b[0m: Parameter array for 'talk' should be one-dimensional, got: array([[0., 0., 0., ..., 0., 0., 0.],\n       [0., 0., 0., ..., 0., 0., 0.],\n       [0., 0., 0., ..., 0., 0., 0.],\n       ...,\n       [0., 0., 0., ..., 0., 0., 0.],\n       [0., 0., 0., ..., 0., 0., 0.],\n       [0., 0., 0., ..., 0., 0., 0.]]) with shape (8063, 23715)"
     ]
    }
   ],
   "source": [
    "# # 逻辑回归      \n",
    "# #  到fit那部分一直报错, 找不到原因... 报错: TypeError            Traceback (most recent call last)\n",
    "\n",
    "# parameters = {'talk': tf_train_data, 'label': y_train}\n",
    "# lr = LogisticRegression()\n",
    "# logistic_line = GridSearchCV(lr, parameters)\n",
    "# logistic_line.fit(tf_train_data, y_train)\n",
    "# pre = logistic_line.predict(tf_test_data)\n",
    "\n",
    "# score1 = classification_report(y_test, pre, digits = 3)     # F1-score\n",
    "# score2 = recall_score(y_test, pre)                          # recall\n",
    "# score3 = precision_score(y_test, pre)                       # precision\n",
    "# print(f\"precision: {score3} \\t recall: {score2} \\t f1-score: {classification_report}\")"
   ]
  },
  {
   "cell_type": "code",
   "execution_count": null,
   "metadata": {},
   "outputs": [
    {
     "name": "stdout",
     "output_type": "stream",
     "text": [
      "score为: 0.7216\n"
     ]
    }
   ],
   "source": [
    "# TODO： 利用朴素贝叶斯来训练模型\n",
    "\n",
    "naive = MultinomialNB()\n",
    "naive.fit(tf_train_data, y_train)\n",
    "score = naive.score(tf_test_data, y_test)\n",
    "print(f'score为: {score}')"
   ]
  },
  {
   "cell_type": "markdown",
   "metadata": {},
   "source": [
    "### 6. 思考题 \n",
    "1. 对于情感分析来说，有一个问题也很重要，比如一个句子里出现了 “我不太兴奋”， “不是很满意”。 在这种情况，因为句子中出现了一些积极的词汇很可能被算法识别成正面的，但由于前面有一个“不”这种关键词，所以否定+肯定=否定，算法中这种情况也需要考虑。另外，否定+否定=肯定， 这种情况也一样。 \n",
    "\n",
    ">``Q``: 对于如上问题，有什么解决方案？ 大概列一下能想到的处理方案。 用简介的文字来描述即可。  "
   ]
  },
  {
   "cell_type": "markdown",
   "metadata": {},
   "source": [
    "  加入判断条件, 如果出现 我不, 不是XXXXX, 等含有负面的词, 判断后面的内容是否存在正面的词, 例如: 我不兴奋, 我不忧愁, 这里记兴奋为1, 忧愁为0, 在前面出现\"不\" 的情况下, 我不太兴奋记为01 从而得到 0 , 表示负面的词, 我不忧愁记为00 或者 我快乐兴奋为 11, 记为1, 也就是判断两个代表情绪的数字是否相同, 如果相同则为正面的次, 如果不同(01, 10) 为负面的词, 不过，通过遍历可能计算量会变大。"
   ]
  }
 ],
 "metadata": {
  "kernelspec": {
   "display_name": "Python 3",
   "language": "python",
   "name": "python3"
  },
  "language_info": {
   "codemirror_mode": {
    "name": "ipython",
    "version": 3
   },
   "file_extension": ".py",
   "mimetype": "text/x-python",
   "name": "python",
   "nbconvert_exporter": "python",
   "pygments_lexer": "ipython3",
   "version": "3.9.5"
  },
  "vscode": {
   "interpreter": {
    "hash": "78f5b707d86fd9281530b9fa2dbdbe1b33232c3b651a8e052360c651d4996094"
   }
  }
 },
 "nbformat": 4,
 "nbformat_minor": 2
}
